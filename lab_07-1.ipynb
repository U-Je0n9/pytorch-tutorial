{
 "cells": [
  {
   "cell_type": "code",
   "execution_count": 1,
   "metadata": {},
   "outputs": [],
   "source": [
    "import torch\n",
    "import torch.nn as nn\n",
    "import torch.nn.functional as F\n",
    "import torch.optim as optim"
   ]
  },
  {
   "cell_type": "code",
   "execution_count": 10,
   "metadata": {},
   "outputs": [
    {
     "name": "stdout",
     "output_type": "stream",
     "text": [
      "Epoch     0/20 Cost: 2.600954\n",
      "Epoch     1/20 Cost: 1.829004\n",
      "Epoch     2/20 Cost: 1.220283\n",
      "Epoch     3/20 Cost: 1.118137\n",
      "Epoch     4/20 Cost: 1.103364\n",
      "Epoch     5/20 Cost: 1.091616\n",
      "Epoch     6/20 Cost: 1.081515\n",
      "Epoch     7/20 Cost: 1.072420\n",
      "Epoch     8/20 Cost: 1.063893\n",
      "Epoch     9/20 Cost: 1.055778\n",
      "Epoch    10/20 Cost: 1.047952\n",
      "Epoch    11/20 Cost: 1.040358\n",
      "Epoch    12/20 Cost: 1.032957\n",
      "Epoch    13/20 Cost: 1.025728\n",
      "Epoch    14/20 Cost: 1.018653\n",
      "Epoch    15/20 Cost: 1.011726\n",
      "Epoch    16/20 Cost: 1.004938\n",
      "Epoch    17/20 Cost: 0.998284\n",
      "Epoch    18/20 Cost: 0.991762\n",
      "Epoch    19/20 Cost: 0.985366\n",
      "Accuracy: 0.0% Cost: 1.092040\n"
     ]
    }
   ],
   "source": [
    "x_train = torch.FloatTensor([[1, 2, 1],\n",
    "                             [1, 3, 2],\n",
    "                             [1, 3, 4],\n",
    "                             [1, 5, 5],\n",
    "                             [1, 7, 5],\n",
    "                             [1, 2, 5],\n",
    "                             [1, 6, 6],\n",
    "                             [1, 7, 7]\n",
    "                            ])\n",
    "#x->(m,3) y->(m,)\n",
    "y_train = torch.LongTensor([2,2,2,1,1,1,0,0])\n",
    "\n",
    "x_test = torch.FloatTensor([[2,1,1],[3,1,2],[3,3,4]])\n",
    "y_test = torch.LongTensor([2,2,2])\n",
    "\n",
    "class SoftmaxClassifierModel(nn.Module):\n",
    "    def __init__(self):\n",
    "        super().__init__()\n",
    "        self.linear = nn.Linear(3,3)\n",
    "    def forward(self, x) :     #x_train->(m,3)  ->  x = 3\n",
    "        return self.linear(x)\n",
    "\n",
    "\n",
    "model = SoftmaxClassifierModel()\n",
    "optimizer = optim.SGD( model.parameters(), lr=0.1 )\n",
    "\n",
    "def train(model, optimizer, x_train, y_train) :\n",
    "    nb_epochs = 20\n",
    "    for epoch in range(nb_epochs):\n",
    "        prediction = model(x_train)\n",
    "        cost = F.cross_entropy(prediction, y_train)\n",
    "\n",
    "        optimizer.zero_grad()\n",
    "        cost.backward()\n",
    "        optimizer.step()\n",
    "\n",
    "        print('Epoch  {:4d}/{} Cost: {:.6f}'.format( epoch, nb_epochs, cost.item()))\n",
    "\n",
    "def test(model, optimizer, x_test, y_test):\n",
    "    prediction = model(x_test)\n",
    "    predicted_classes = prediction.max(1)[1]\n",
    "    correct_count = (predicted_classes == y_test).sum().item()\n",
    "    cost = F.cross_entropy(prediction, y_test)\n",
    "\n",
    "    print('Accuracy: {}% Cost: {:.6f}'.format( correct_count / len(y_test) * 100, cost.item()))\n",
    "\n",
    "\n",
    "train (model, optimizer, x_train, y_train)\n",
    "test (model, optimizer, x_test, y_test)\n",
    "\n",
    "#이미 오버피팅 된 상태"
   ]
  },
  {
   "cell_type": "markdown",
   "metadata": {},
   "source": [
    "## Overshooting\n",
    "learning rate가 너무 크면 diverge 하면서 cost가 점점 늘어난다. (7-1 37분쯤 그림 참고)"
   ]
  },
  {
   "cell_type": "code",
   "execution_count": 15,
   "metadata": {},
   "outputs": [
    {
     "name": "stdout",
     "output_type": "stream",
     "text": [
      "Epoch     0/20 Cost: 1.519528\n",
      "Epoch     1/20 Cost: 1050876.875000\n",
      "Epoch     2/20 Cost: 1327161.250000\n",
      "Epoch     3/20 Cost: 684830.937500\n",
      "Epoch     4/20 Cost: 1413376.750000\n",
      "Epoch     5/20 Cost: 1530286.250000\n",
      "Epoch     6/20 Cost: 977439.312500\n",
      "Epoch     7/20 Cost: 774344.250000\n",
      "Epoch     8/20 Cost: 606520.312500\n",
      "Epoch     9/20 Cost: 1547751.875000\n",
      "Epoch    10/20 Cost: 1614661.250000\n",
      "Epoch    11/20 Cost: 1111814.375000\n",
      "Epoch    12/20 Cost: 823384.000000\n",
      "Epoch    13/20 Cost: 861393.437500\n",
      "Epoch    14/20 Cost: 1452439.375000\n",
      "Epoch    15/20 Cost: 1170911.250000\n",
      "Epoch    16/20 Cost: 1019531.875000\n",
      "Epoch    17/20 Cost: 635042.062500\n",
      "Epoch    18/20 Cost: 592257.312500\n",
      "Epoch    19/20 Cost: 1594626.750000\n"
     ]
    }
   ],
   "source": [
    "model = SoftmaxClassifierModel()\n",
    "optimizer = optim.SGD( model.parameters(), lr = 1e5)\n",
    "train(model, optimizer, x_train, y_train)\n"
   ]
  },
  {
   "cell_type": "markdown",
   "metadata": {},
   "source": [
    "너무 작으면 학습이 너무 느림(cost의 변화가 거의 없음)"
   ]
  },
  {
   "cell_type": "code",
   "execution_count": 16,
   "metadata": {},
   "outputs": [
    {
     "name": "stdout",
     "output_type": "stream",
     "text": [
      "Epoch     0/20 Cost: 2.350477\n",
      "Epoch     1/20 Cost: 2.350477\n",
      "Epoch     2/20 Cost: 2.350477\n",
      "Epoch     3/20 Cost: 2.350477\n",
      "Epoch     4/20 Cost: 2.350477\n",
      "Epoch     5/20 Cost: 2.350477\n",
      "Epoch     6/20 Cost: 2.350477\n",
      "Epoch     7/20 Cost: 2.350477\n",
      "Epoch     8/20 Cost: 2.350477\n",
      "Epoch     9/20 Cost: 2.350477\n",
      "Epoch    10/20 Cost: 2.350477\n",
      "Epoch    11/20 Cost: 2.350477\n",
      "Epoch    12/20 Cost: 2.350477\n",
      "Epoch    13/20 Cost: 2.350477\n",
      "Epoch    14/20 Cost: 2.350477\n",
      "Epoch    15/20 Cost: 2.350477\n",
      "Epoch    16/20 Cost: 2.350477\n",
      "Epoch    17/20 Cost: 2.350477\n",
      "Epoch    18/20 Cost: 2.350477\n",
      "Epoch    19/20 Cost: 2.350477\n"
     ]
    }
   ],
   "source": [
    "model = SoftmaxClassifierModel()\n",
    "optimizer = optim.SGD( model.parameters(), lr = 1e-10)\n",
    "train(model, optimizer, x_train, y_train)"
   ]
  },
  {
   "cell_type": "markdown",
   "metadata": {},
   "source": [
    "## Data Preprocessing"
   ]
  },
  {
   "cell_type": "code",
   "execution_count": 18,
   "metadata": {},
   "outputs": [
    {
     "name": "stdout",
     "output_type": "stream",
     "text": [
      "tensor([[-1.0674, -0.3758, -0.8398],\n",
      "        [ 0.7418,  0.2778,  0.5863],\n",
      "        [ 0.3799,  0.5229,  0.3486],\n",
      "        [ 1.0132,  1.0948,  1.1409],\n",
      "        [-1.0674, -1.5197, -1.2360]])\n"
     ]
    }
   ],
   "source": [
    "x_train = torch.FloatTensor([[73, 80, 75],\n",
    "                             [93, 88, 93],\n",
    "                             [89, 91, 90],\n",
    "                             [96, 98, 100],\n",
    "                             [73, 66, 70]])\n",
    "y_train = torch.FloatTensor([[152], [185], [180], [196], [142]])\n",
    "\n",
    "mu = x_train.mean(dim=0)\n",
    "sigma = x_train.std(dim=0)\n",
    "norm_x_train = (x_train - mu) / sigma\n",
    "\n",
    "print(norm_x_train)\n",
    "# 어떤 정규분포를 만드는 trianing set 만들기"
   ]
  },
  {
   "cell_type": "code",
   "execution_count": 21,
   "metadata": {},
   "outputs": [
    {
     "name": "stdout",
     "output_type": "stream",
     "text": [
      "Epoch    0/20  Cost : 29767.603516\n",
      "Epoch    1/20  Cost : 18900.458984\n",
      "Epoch    2/20  Cost : 12052.658203\n",
      "Epoch    3/20  Cost : 7701.250977\n",
      "Epoch    4/20  Cost : 4925.418457\n",
      "Epoch    5/20  Cost : 3151.517090\n",
      "Epoch    6/20  Cost : 2016.978516\n",
      "Epoch    7/20  Cost : 1291.087158\n",
      "Epoch    8/20  Cost : 826.571167\n",
      "Epoch    9/20  Cost : 529.290161\n",
      "Epoch   10/20  Cost : 339.025940\n",
      "Epoch   11/20  Cost : 217.249313\n",
      "Epoch   12/20  Cost : 139.303833\n",
      "Epoch   13/20  Cost : 89.410202\n",
      "Epoch   14/20  Cost : 57.470360\n",
      "Epoch   15/20  Cost : 37.020805\n",
      "Epoch   16/20  Cost : 23.925549\n",
      "Epoch   17/20  Cost : 15.537231\n",
      "Epoch   18/20  Cost : 10.161668\n",
      "Epoch   19/20  Cost : 6.714508\n"
     ]
    }
   ],
   "source": [
    "class MultivariateLinearRegressionModel(nn.Module) :\n",
    "    def __init__(self) :\n",
    "        super().__init__()\n",
    "        self.linear = nn.Linear(3,1)\n",
    "\n",
    "    def forward(self, x) :\n",
    "        return self.linear(x)\n",
    "\n",
    "model = MultivariateLinearRegressionModel()\n",
    "optimizer = optim.SGD(model.parameters(), lr = 1e-1)\n",
    "\n",
    "def train(model, optimizer, x_train, y_train):\n",
    "    nb_epochs = 20\n",
    "    for epoch in range(nb_epochs) :\n",
    "        prediction = model (x_train)\n",
    "        cost = F.mse_loss(prediction, y_train)\n",
    "\n",
    "        optimizer.zero_grad()\n",
    "        cost.backward()\n",
    "        optimizer.step()\n",
    "\n",
    "        print('Epoch {:4d}/{}  Cost : {:.6f}'.format(epoch, nb_epochs, cost.item()))\n",
    "\n",
    "train(model, optimizer, norm_x_train, y_train)\n",
    "\n",
    "# y_train이 이번엔 1차원이었지만 차원이 높아지고 첫번째와 두번째 값의 차이가 클 때\n",
    "# 전처리 하지 않으면 큰 값에만 집중해서 cost를 줄여나감(작은 값은 영향이 작기 때문에)"
   ]
  },
  {
   "cell_type": "code",
   "execution_count": null,
   "metadata": {},
   "outputs": [],
   "source": []
  }
 ],
 "metadata": {
  "kernelspec": {
   "display_name": "Python 3.10.1 64-bit (system)",
   "language": "python",
   "name": "python3"
  },
  "language_info": {
   "codemirror_mode": {
    "name": "ipython",
    "version": 3
   },
   "file_extension": ".py",
   "mimetype": "text/x-python",
   "name": "python",
   "nbconvert_exporter": "python",
   "pygments_lexer": "ipython3",
   "version": "3.10.1"
  },
  "orig_nbformat": 4,
  "vscode": {
   "interpreter": {
    "hash": "f2da23d7cea119a2496e177037895a769c276e25040c55c0d4dfaae947ee03ce"
   }
  }
 },
 "nbformat": 4,
 "nbformat_minor": 2
}
